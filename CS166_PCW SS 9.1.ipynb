{
 "cells": [
  {
   "cell_type": "code",
   "execution_count": 1,
   "metadata": {},
   "outputs": [],
   "source": [
    "import random\n",
    "import numpy as np\n",
    "import scipy.stats as sts\n",
    "import matplotlib.pyplot as plt"
   ]
  },
  {
   "cell_type": "code",
   "execution_count": 14,
   "metadata": {},
   "outputs": [
    {
     "name": "stdout",
     "output_type": "stream",
     "text": [
      "(576.7970244489059, 663.1367331589952)\n"
     ]
    },
    {
     "data": {
      "image/png": "[encoded data removed]",
      "text/plain": [
       "<Figure size 432x288 with 1 Axes>"
      ]
     },
     "metadata": {
      "needs_background": "light"
     },
     "output_type": "display_data"
    }
   ],
   "source": [
    "returns = list()\n",
    "for _ in range(1000):\n",
    "    capital = 250\n",
    "    for i in range(20):\n",
    "        bet_money = 50*(1+0.1)**i\n",
    "        if capital < bet_money:\n",
    "            #run out of money\n",
    "            break\n",
    "        if random.random() < 0.6:\n",
    "            capital += bet_money\n",
    "        else:\n",
    "            capital -= bet_money\n",
    "    \n",
    "    returns.append(capital)\n",
    "\n",
    "plt.hist(returns)\n",
    "plt.xlabel(\"Final value\")\n",
    "plt.ylabel(\"Frequency\")\n",
    "confidence_interval = sts.t.interval(alpha=0.95, df=len(returns)-1, loc=np.mean(returns), scale=sts.sem(returns))\n",
    "print(confidence_interval)"
   ]
  },
  {
   "cell_type": "code",
   "execution_count": null,
   "metadata": {},
   "outputs": [],
   "source": []
  }
 ],
 "metadata": {
  "kernelspec": {
   "display_name": "Python 3",
   "language": "python",
   "name": "python3"
  },
  "language_info": {
   "codemirror_mode": {
    "name": "ipython",
    "version": 3
   },
   "file_extension": ".py",
   "mimetype": "text/x-python",
   "name": "python",
   "nbconvert_exporter": "python",
   "pygments_lexer": "ipython3",
   "version": "3.7.3"
  }
 },
 "nbformat": 4,
 "nbformat_minor": 2
}
